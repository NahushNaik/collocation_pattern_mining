{
 "cells": [
  {
   "cell_type": "code",
   "execution_count": 84,
   "metadata": {},
   "outputs": [],
   "source": [
    "import pandas as pd\n",
    "import numpy as np\n",
    "#from pandas import factorize\n",
    "from random import choices"
   ]
  },
  {
   "cell_type": "code",
   "execution_count": 85,
   "metadata": {},
   "outputs": [],
   "source": [
    "ds = pd.read_csv('Zinj.csv')"
   ]
  },
  {
   "cell_type": "code",
   "execution_count": 86,
   "metadata": {},
   "outputs": [
    {
     "data": {
      "text/html": [
       "<div>\n",
       "<style scoped>\n",
       "    .dataframe tbody tr th:only-of-type {\n",
       "        vertical-align: middle;\n",
       "    }\n",
       "\n",
       "    .dataframe tbody tr th {\n",
       "        vertical-align: top;\n",
       "    }\n",
       "\n",
       "    .dataframe thead th {\n",
       "        text-align: right;\n",
       "    }\n",
       "</style>\n",
       "<table border=\"1\" class=\"dataframe\">\n",
       "  <thead>\n",
       "    <tr style=\"text-align: right;\">\n",
       "      <th></th>\n",
       "      <th>Unnamed: 0</th>\n",
       "      <th>longitude</th>\n",
       "      <th>latitude</th>\n",
       "      <th>buildingType</th>\n",
       "    </tr>\n",
       "  </thead>\n",
       "  <tbody>\n",
       "    <tr>\n",
       "      <th>0</th>\n",
       "      <td>0</td>\n",
       "      <td>7.737361</td>\n",
       "      <td>48.614862</td>\n",
       "      <td>single_house</td>\n",
       "    </tr>\n",
       "    <tr>\n",
       "      <th>1</th>\n",
       "      <td>1</td>\n",
       "      <td>7.728645</td>\n",
       "      <td>48.633358</td>\n",
       "      <td>single_house</td>\n",
       "    </tr>\n",
       "    <tr>\n",
       "      <th>2</th>\n",
       "      <td>2</td>\n",
       "      <td>7.728844</td>\n",
       "      <td>48.633018</td>\n",
       "      <td>single_house</td>\n",
       "    </tr>\n",
       "    <tr>\n",
       "      <th>3</th>\n",
       "      <td>3</td>\n",
       "      <td>7.729358</td>\n",
       "      <td>48.616688</td>\n",
       "      <td>garage</td>\n",
       "    </tr>\n",
       "    <tr>\n",
       "      <th>4</th>\n",
       "      <td>4</td>\n",
       "      <td>7.729743</td>\n",
       "      <td>48.632626</td>\n",
       "      <td>single_house</td>\n",
       "    </tr>\n",
       "    <tr>\n",
       "      <th>...</th>\n",
       "      <td>...</td>\n",
       "      <td>...</td>\n",
       "      <td>...</td>\n",
       "      <td>...</td>\n",
       "    </tr>\n",
       "    <tr>\n",
       "      <th>3366</th>\n",
       "      <td>3366</td>\n",
       "      <td>7.768556</td>\n",
       "      <td>48.597937</td>\n",
       "      <td>commercial_building</td>\n",
       "    </tr>\n",
       "    <tr>\n",
       "      <th>3367</th>\n",
       "      <td>3367</td>\n",
       "      <td>7.781501</td>\n",
       "      <td>48.586944</td>\n",
       "      <td>single_house</td>\n",
       "    </tr>\n",
       "    <tr>\n",
       "      <th>3368</th>\n",
       "      <td>3368</td>\n",
       "      <td>7.781619</td>\n",
       "      <td>48.587025</td>\n",
       "      <td>single_house</td>\n",
       "    </tr>\n",
       "    <tr>\n",
       "      <th>3369</th>\n",
       "      <td>3369</td>\n",
       "      <td>7.763797</td>\n",
       "      <td>48.597398</td>\n",
       "      <td>single_house</td>\n",
       "    </tr>\n",
       "    <tr>\n",
       "      <th>3370</th>\n",
       "      <td>3370</td>\n",
       "      <td>7.763898</td>\n",
       "      <td>48.597386</td>\n",
       "      <td>single_house</td>\n",
       "    </tr>\n",
       "  </tbody>\n",
       "</table>\n",
       "<p>3371 rows × 4 columns</p>\n",
       "</div>"
      ],
      "text/plain": [
       "      Unnamed: 0  longitude   latitude         buildingType\n",
       "0              0   7.737361  48.614862         single_house\n",
       "1              1   7.728645  48.633358         single_house\n",
       "2              2   7.728844  48.633018         single_house\n",
       "3              3   7.729358  48.616688               garage\n",
       "4              4   7.729743  48.632626         single_house\n",
       "...          ...        ...        ...                  ...\n",
       "3366        3366   7.768556  48.597937  commercial_building\n",
       "3367        3367   7.781501  48.586944         single_house\n",
       "3368        3368   7.781619  48.587025         single_house\n",
       "3369        3369   7.763797  48.597398         single_house\n",
       "3370        3370   7.763898  48.597386         single_house\n",
       "\n",
       "[3371 rows x 4 columns]"
      ]
     },
     "execution_count": 86,
     "metadata": {},
     "output_type": "execute_result"
    }
   ],
   "source": [
    "ds"
   ]
  },
  {
   "cell_type": "code",
   "execution_count": 87,
   "metadata": {},
   "outputs": [
    {
     "name": "stdout",
     "output_type": "stream",
     "text": [
      "      longitude\n",
      "0      7.737361\n",
      "1      7.728645\n",
      "2      7.728844\n",
      "3      7.729358\n",
      "4      7.729743\n",
      "...         ...\n",
      "3366   7.768556\n",
      "3367   7.781501\n",
      "3368   7.781619\n",
      "3369   7.763797\n",
      "3370   7.763898\n",
      "\n",
      "[3371 rows x 1 columns]\n"
     ]
    }
   ],
   "source": [
    "lonG = ds[['longitude']]\n",
    "latI = ds[['latitude']]\n",
    "print(lonG)"
   ]
  },
  {
   "cell_type": "code",
   "execution_count": 88,
   "metadata": {},
   "outputs": [],
   "source": [
    "lonG_max = lonG.max()\n",
    "lonG_min = lonG.min()\n",
    "latI_max = latI.max()\n",
    "latI_min = latI.min()\n",
    "#print(lonG_max)\n",
    "#print(lonG_max - lonG_min)"
   ]
  },
  {
   "cell_type": "code",
   "execution_count": 89,
   "metadata": {},
   "outputs": [],
   "source": [
    "new_lonG = np.linspace(lonG_min, lonG_max, 3371, endpoint = True)\n",
    "new_latI = np.linspace(latI_min, latI_max, 3371, endpoint = True)\n",
    "new_lonG = new_lonG.tolist()\n",
    "new_latI = new_latI.tolist()\n",
    "#print(new_lonG)\n"
   ]
  },
  {
   "cell_type": "code",
   "execution_count": 90,
   "metadata": {},
   "outputs": [],
   "source": [
    "btypes = ds.iloc[:,3]"
   ]
  },
  {
   "cell_type": "code",
   "execution_count": 91,
   "metadata": {},
   "outputs": [],
   "source": [
    "btypes = btypes.factorize()"
   ]
  },
  {
   "cell_type": "code",
   "execution_count": 92,
   "metadata": {},
   "outputs": [],
   "source": [
    "counts = ds['buildingType'].value_counts()"
   ]
  },
  {
   "cell_type": "code",
   "execution_count": 93,
   "metadata": {},
   "outputs": [
    {
     "name": "stdout",
     "output_type": "stream",
     "text": [
      "single_house           2339\n",
      "collective_house        425\n",
      "commercial_building     373\n",
      "garage                  132\n",
      "light_building           88\n",
      "school                   14\n",
      "Name: buildingType, dtype: int64\n"
     ]
    }
   ],
   "source": [
    "print(counts)"
   ]
  },
  {
   "cell_type": "code",
   "execution_count": 94,
   "metadata": {},
   "outputs": [
    {
     "name": "stdout",
     "output_type": "stream",
     "text": [
      "(array([0, 0, 0, ..., 0, 0, 0], dtype=int64), Index(['single_house', 'garage', 'commercial_building', 'light_building',\n",
      "       'collective_house', 'school'],\n",
      "      dtype='object'))\n"
     ]
    }
   ],
   "source": [
    "print(btypes)"
   ]
  },
  {
   "cell_type": "code",
   "execution_count": 95,
   "metadata": {},
   "outputs": [],
   "source": [
    "btypes_l = ['single_house', 'garage', 'commercial_building', 'light_building',\n",
    "       'collective_house', 'school']\n",
    "tot_sum = sum(counts)"
   ]
  },
  {
   "cell_type": "code",
   "execution_count": 96,
   "metadata": {},
   "outputs": [
    {
     "name": "stdout",
     "output_type": "stream",
     "text": [
      "single_house           0.693859\n",
      "collective_house       0.126075\n",
      "commercial_building    0.110650\n",
      "garage                 0.039158\n",
      "light_building         0.026105\n",
      "school                 0.004153\n",
      "Name: buildingType, dtype: float64\n"
     ]
    }
   ],
   "source": [
    "counts[:] = [x/tot_sum for x in counts]\n",
    "print(counts)"
   ]
  },
  {
   "cell_type": "code",
   "execution_count": 97,
   "metadata": {},
   "outputs": [],
   "source": [
    "new_bT = choices(btypes_l, counts, k=3371)"
   ]
  },
  {
   "cell_type": "code",
   "execution_count": 98,
   "metadata": {},
   "outputs": [
    {
     "name": "stdout",
     "output_type": "stream",
     "text": [
      "['single_house', 'single_house', 'single_house', 'single_house', 'single_house', 'commercial_building', 'single_house', 'single_house', 'single_house', 'single_house', 'single_house', 'single_house', 'single_house', 'single_house', 'single_house', 'single_house', 'single_house', 'single_house', 'single_house', 'light_building', 'garage', 'commercial_building', 'single_house', 'single_house', 'single_house', 'single_house', 'garage', 'single_house', 'light_building', 'single_house', 'commercial_building', 'single_house', 'single_house', 'single_house', 'commercial_building', 'single_house', 'single_house', 'single_house', 'single_house', 'single_house', 'single_house', 'single_house', 'single_house', 'garage', 'single_house', 'single_house', 'single_house', 'single_house', 'commercial_building', 'collective_house', 'single_house', 'single_house', 'single_house', 'garage', 'single_house', 'single_house', 'commercial_building', 'single_house', 'commercial_building', 'single_house', 'single_house', 'garage', 'garage', 'single_house', 'single_house', 'collective_house', 'single_house', 'single_house', 'single_house', 'single_house', 'light_building', 'single_house', 'single_house', 'single_house', 'garage', 'single_house', 'single_house', 'single_house', 'single_house', 'garage', 'single_house', 'commercial_building', 'single_house', 'single_house', 'single_house', 'commercial_building', 'single_house', 'single_house', 'single_house', 'single_house', 'single_house', 'single_house', 'commercial_building', 'single_house', 'single_house', 'single_house', 'collective_house', 'garage', 'single_house', 'single_house', 'single_house', 'garage', 'garage', 'single_house', 'single_house', 'commercial_building', 'single_house', 'garage', 'single_house', 'single_house', 'single_house', 'single_house', 'single_house', 'commercial_building', 'garage', 'single_house', 'garage', 'garage', 'single_house', 'single_house', 'commercial_building', 'single_house', 'single_house', 'single_house', 'single_house', 'single_house', 'single_house', 'garage', 'single_house', 'garage', 'single_house', 'single_house', 'garage', 'single_house', 'single_house', 'garage', 'light_building', 'garage', 'single_house', 'single_house', 'single_house', 'single_house', 'single_house', 'single_house', 'single_house', 'single_house', 'single_house', 'commercial_building', 'light_building', 'garage', 'single_house', 'single_house', 'garage', 'single_house', 'single_house', 'single_house', 'garage', 'garage', 'single_house', 'garage', 'single_house', 'single_house', 'light_building', 'single_house', 'single_house', 'single_house', 'single_house', 'light_building', 'single_house', 'single_house', 'single_house', 'garage', 'single_house', 'single_house', 'commercial_building', 'commercial_building', 'single_house', 'single_house', 'single_house', 'single_house', 'single_house', 'commercial_building', 'commercial_building', 'single_house', 'commercial_building', 'single_house', 'single_house', 'single_house', 'commercial_building', 'single_house', 'single_house', 'commercial_building', 'single_house', 'single_house', 'single_house', 'single_house', 'collective_house', 'garage', 'single_house', 'school', 'single_house', 'single_house', 'single_house', 'single_house', 'single_house', 'single_house', 'single_house', 'single_house', 'garage', 'garage', 'single_house', 'single_house', 'garage', 'single_house', 'garage', 'single_house', 'single_house', 'single_house', 'single_house', 'garage', 'single_house', 'single_house', 'single_house', 'single_house', 'single_house', 'single_house', 'collective_house', 'single_house', 'commercial_building', 'collective_house', 'single_house', 'commercial_building', 'garage', 'single_house', 'light_building', 'garage', 'single_house', 'single_house', 'single_house', 'single_house', 'single_house', 'single_house', 'single_house', 'single_house', 'single_house', 'single_house', 'collective_house', 'single_house', 'single_house', 'garage', 'single_house', 'single_house', 'single_house', 'single_house', 'single_house', 'single_house', 'single_house', 'commercial_building', 'commercial_building', 'single_house', 'single_house', 'single_house', 'single_house', 'single_house', 'light_building', 'single_house', 'garage', 'single_house', 'single_house', 'single_house', 'single_house', 'single_house', 'commercial_building', 'single_house', 'commercial_building', 'single_house', 'single_house', 'single_house', 'commercial_building', 'single_house', 'single_house', 'single_house', 'collective_house', 'single_house', 'single_house', 'single_house', 'single_house', 'single_house', 'single_house', 'single_house', 'commercial_building', 'single_house', 'single_house', 'garage', 'single_house', 'single_house', 'single_house', 'single_house', 'commercial_building', 'single_house', 'single_house', 'single_house', 'garage', 'commercial_building', 'single_house', 'single_house', 'single_house', 'single_house', 'single_house', 'single_house', 'single_house', 'single_house', 'single_house', 'single_house', 'single_house', 'commercial_building', 'commercial_building', 'single_house', 'garage', 'single_house', 'single_house', 'single_house', 'single_house', 'single_house', 'single_house', 'single_house', 'garage', 'light_building', 'single_house', 'single_house', 'light_building', 'commercial_building', 'garage', 'single_house', 'single_house', 'garage', 'single_house', 'single_house', 'single_house', 'commercial_building', 'single_house', 'garage', 'single_house', 'single_house', 'single_house', 'single_house', 'single_house', 'single_house', 'single_house', 'single_house', 'single_house', 'single_house', 'single_house', 'single_house', 'single_house', 'single_house', 'single_house', 'single_house', 'single_house', 'single_house', 'single_house', 'commercial_building', 'single_house', 'single_house', 'single_house', 'single_house', 'single_house', 'single_house', 'single_house', 'single_house', 'single_house', 'single_house', 'single_house', 'single_house', 'single_house', 'single_house', 'single_house', 'collective_house', 'light_building', 'single_house', 'single_house', 'single_house', 'single_house', 'light_building', 'garage', 'collective_house', 'single_house', 'collective_house', 'single_house', 'single_house', 'single_house', 'single_house', 'single_house', 'single_house', 'single_house', 'garage', 'commercial_building', 'single_house', 'single_house', 'commercial_building', 'single_house', 'commercial_building', 'single_house', 'single_house', 'garage', 'garage', 'single_house', 'single_house', 'single_house', 'garage', 'single_house', 'single_house', 'single_house', 'single_house', 'light_building', 'garage', 'single_house', 'single_house', 'single_house', 'single_house', 'garage', 'single_house', 'single_house', 'garage', 'single_house', 'single_house', 'single_house', 'garage', 'single_house', 'single_house', 'garage', 'single_house', 'single_house', 'school', 'light_building', 'single_house', 'single_house', 'commercial_building', 'single_house', 'commercial_building', 'commercial_building', 'single_house', 'collective_house', 'commercial_building', 'single_house', 'single_house', 'single_house', 'single_house', 'garage', 'single_house', 'single_house', 'single_house', 'single_house', 'commercial_building', 'single_house', 'commercial_building', 'single_house', 'single_house', 'single_house', 'single_house', 'single_house', 'single_house', 'single_house', 'single_house', 'single_house', 'single_house', 'single_house', 'single_house', 'commercial_building', 'light_building', 'single_house', 'single_house', 'commercial_building', 'single_house', 'single_house', 'single_house', 'single_house', 'garage', 'single_house', 'single_house', 'single_house', 'garage', 'single_house', 'single_house', 'single_house', 'single_house', 'single_house', 'single_house', 'single_house', 'single_house', 'commercial_building', 'single_house', 'single_house', 'garage', 'single_house', 'single_house', 'single_house', 'single_house', 'single_house', 'garage', 'single_house', 'single_house', 'single_house', 'single_house', 'single_house', 'single_house', 'single_house', 'commercial_building', 'single_house', 'garage', 'single_house', 'single_house', 'light_building', 'single_house', 'single_house', 'commercial_building', 'single_house', 'light_building', 'light_building', 'single_house', 'single_house', 'light_building', 'single_house', 'light_building', 'garage', 'commercial_building', 'single_house', 'garage', 'single_house', 'single_house', 'single_house', 'single_house', 'single_house', 'single_house', 'single_house', 'collective_house', 'single_house', 'single_house', 'single_house', 'single_house', 'single_house', 'single_house', 'commercial_building', 'commercial_building', 'commercial_building', 'single_house', 'single_house', 'garage', 'light_building', 'single_house', 'single_house', 'collective_house', 'single_house', 'single_house', 'single_house', 'garage', 'garage', 'single_house', 'single_house', 'single_house', 'single_house', 'single_house', 'single_house', 'single_house', 'single_house', 'single_house', 'single_house', 'single_house', 'single_house', 'garage', 'single_house', 'commercial_building', 'single_house', 'single_house', 'single_house', 'single_house', 'commercial_building', 'single_house', 'single_house', 'single_house', 'collective_house', 'single_house', 'single_house', 'single_house', 'single_house', 'single_house', 'single_house', 'single_house', 'commercial_building', 'single_house', 'garage', 'single_house', 'commercial_building', 'single_house', 'garage', 'single_house', 'single_house', 'single_house', 'single_house', 'single_house', 'single_house', 'single_house', 'single_house', 'collective_house', 'single_house', 'single_house', 'single_house', 'commercial_building', 'single_house', 'single_house', 'garage', 'single_house', 'single_house', 'single_house', 'single_house', 'light_building', 'single_house', 'single_house', 'garage', 'single_house', 'single_house', 'commercial_building', 'single_house', 'single_house', 'light_building', 'single_house', 'single_house', 'single_house', 'single_house', 'garage', 'garage', 'single_house', 'single_house', 'single_house', 'single_house', 'single_house', 'single_house', 'single_house', 'commercial_building', 'commercial_building', 'commercial_building', 'single_house', 'garage', 'single_house', 'single_house', 'commercial_building', 'single_house', 'single_house', 'single_house', 'collective_house', 'single_house', 'single_house', 'single_house', 'single_house', 'single_house', 'collective_house', 'single_house', 'single_house', 'garage', 'garage', 'single_house', 'single_house', 'garage', 'garage', 'garage', 'single_house', 'single_house', 'single_house', 'single_house', 'single_house', 'garage', 'single_house', 'single_house', 'single_house', 'single_house', 'single_house', 'single_house', 'single_house', 'single_house', 'garage', 'single_house', 'single_house', 'single_house', 'single_house', 'garage', 'light_building', 'commercial_building', 'single_house', 'garage', 'single_house', 'single_house', 'single_house', 'commercial_building', 'light_building', 'single_house', 'single_house', 'commercial_building', 'single_house', 'single_house', 'single_house', 'single_house', 'single_house', 'single_house', 'single_house', 'light_building', 'single_house', 'single_house', 'single_house', 'single_house', 'garage', 'single_house', 'single_house', 'single_house', 'single_house', 'single_house', 'single_house', 'commercial_building', 'single_house', 'single_house', 'single_house', 'single_house', 'light_building', 'commercial_building', 'light_building', 'single_house', 'single_house', 'light_building', 'single_house', 'single_house', 'collective_house', 'single_house', 'single_house', 'single_house', 'commercial_building', 'collective_house', 'commercial_building', 'garage', 'single_house', 'single_house', 'single_house', 'garage', 'garage', 'garage', 'single_house', 'single_house', 'single_house', 'single_house', 'single_house', 'commercial_building', 'single_house', 'commercial_building', 'single_house', 'single_house', 'garage', 'single_house', 'single_house', 'single_house', 'garage', 'single_house', 'single_house', 'single_house', 'single_house', 'commercial_building', 'single_house', 'single_house', 'single_house', 'single_house', 'single_house', 'garage', 'single_house', 'collective_house', 'single_house', 'single_house', 'single_house', 'single_house', 'commercial_building', 'single_house', 'garage', 'single_house', 'single_house', 'single_house', 'single_house', 'commercial_building', 'single_house', 'single_house', 'single_house', 'commercial_building', 'single_house', 'single_house', 'collective_house', 'single_house', 'single_house', 'garage', 'single_house', 'single_house', 'single_house', 'commercial_building', 'commercial_building', 'single_house', 'garage', 'single_house', 'single_house', 'single_house', 'light_building', 'garage', 'school', 'single_house', 'single_house', 'single_house', 'single_house', 'single_house', 'commercial_building', 'single_house', 'single_house', 'single_house', 'single_house', 'single_house', 'single_house', 'single_house', 'garage', 'single_house', 'single_house', 'single_house', 'single_house', 'commercial_building', 'garage', 'single_house', 'commercial_building', 'commercial_building', 'single_house', 'single_house', 'single_house', 'single_house', 'garage', 'garage', 'garage', 'garage', 'single_house', 'single_house', 'single_house', 'single_house', 'single_house', 'single_house', 'single_house', 'single_house', 'single_house', 'single_house', 'commercial_building', 'single_house', 'garage', 'single_house', 'single_house', 'single_house', 'single_house', 'single_house', 'single_house', 'commercial_building', 'commercial_building', 'garage', 'single_house', 'single_house', 'single_house', 'single_house', 'single_house', 'single_house', 'single_house', 'commercial_building', 'garage', 'single_house', 'single_house', 'single_house', 'single_house', 'single_house', 'light_building', 'single_house', 'single_house', 'light_building', 'single_house', 'garage', 'single_house', 'garage', 'commercial_building', 'single_house', 'single_house', 'single_house', 'commercial_building', 'single_house', 'single_house', 'garage', 'single_house', 'single_house', 'garage', 'single_house', 'single_house', 'garage', 'garage', 'single_house', 'single_house', 'single_house', 'commercial_building', 'single_house', 'single_house', 'garage', 'commercial_building', 'garage', 'collective_house', 'single_house', 'single_house', 'light_building', 'single_house', 'single_house', 'single_house', 'single_house', 'single_house', 'single_house', 'single_house', 'garage', 'single_house', 'single_house', 'single_house', 'single_house', 'single_house', 'single_house', 'single_house', 'single_house', 'commercial_building', 'commercial_building', 'garage', 'single_house', 'single_house', 'single_house', 'single_house', 'garage', 'single_house', 'garage', 'single_house', 'single_house', 'collective_house', 'single_house', 'commercial_building', 'single_house', 'light_building', 'single_house', 'single_house', 'commercial_building', 'single_house', 'commercial_building', 'garage', 'single_house', 'single_house', 'single_house', 'collective_house', 'single_house', 'single_house', 'commercial_building', 'single_house', 'commercial_building', 'single_house', 'single_house', 'single_house', 'light_building', 'commercial_building', 'single_house', 'single_house', 'single_house', 'garage', 'single_house', 'single_house', 'garage', 'garage', 'single_house', 'single_house', 'single_house', 'single_house', 'single_house', 'single_house', 'single_house', 'single_house', 'single_house', 'single_house', 'commercial_building', 'single_house', 'single_house', 'single_house', 'commercial_building', 'single_house', 'single_house', 'commercial_building', 'single_house', 'single_house', 'single_house', 'single_house', 'commercial_building', 'single_house', 'single_house', 'collective_house', 'single_house', 'single_house', 'single_house', 'single_house', 'collective_house', 'garage', 'single_house', 'single_house', 'single_house', 'single_house', 'light_building', 'single_house', 'single_house', 'single_house', 'single_house', 'single_house', 'commercial_building', 'single_house', 'single_house', 'single_house', 'single_house', 'garage', 'light_building', 'single_house', 'single_house', 'garage', 'single_house', 'light_building', 'garage', 'single_house', 'single_house', 'single_house', 'single_house', 'single_house', 'single_house', 'single_house', 'single_house', 'single_house', 'single_house', 'single_house', 'commercial_building', 'single_house', 'single_house', 'single_house', 'commercial_building', 'single_house', 'single_house', 'single_house', 'single_house', 'single_house', 'single_house', 'single_house', 'light_building', 'commercial_building', 'commercial_building', 'single_house', 'single_house', 'single_house', 'garage', 'single_house', 'single_house', 'single_house', 'single_house', 'commercial_building', 'commercial_building', 'single_house', 'single_house', 'collective_house', 'single_house', 'garage', 'single_house', 'single_house', 'single_house', 'single_house', 'garage', 'single_house', 'single_house', 'single_house', 'single_house', 'commercial_building', 'single_house', 'garage', 'commercial_building', 'garage', 'garage', 'single_house', 'single_house', 'single_house', 'single_house', 'single_house', 'light_building', 'single_house', 'single_house', 'single_house', 'single_house', 'single_house', 'single_house', 'single_house', 'single_house', 'commercial_building', 'single_house', 'single_house', 'single_house', 'single_house', 'single_house', 'single_house', 'commercial_building', 'garage', 'single_house', 'single_house', 'garage', 'single_house', 'single_house', 'single_house', 'single_house', 'single_house', 'single_house', 'single_house', 'single_house', 'single_house', 'single_house', 'single_house', 'single_house', 'commercial_building', 'single_house', 'single_house', 'single_house', 'single_house', 'single_house', 'single_house', 'single_house', 'single_house', 'single_house', 'single_house', 'commercial_building', 'single_house', 'single_house', 'single_house', 'single_house', 'single_house', 'single_house', 'single_house', 'single_house', 'commercial_building', 'single_house', 'light_building', 'light_building', 'garage', 'single_house', 'single_house', 'garage', 'single_house', 'single_house', 'single_house', 'single_house', 'single_house', 'single_house', 'single_house', 'single_house', 'single_house', 'single_house', 'collective_house', 'garage', 'single_house', 'commercial_building', 'garage', 'single_house', 'single_house', 'single_house', 'single_house', 'single_house', 'single_house', 'single_house', 'single_house', 'collective_house', 'single_house', 'single_house', 'single_house', 'garage', 'commercial_building', 'single_house', 'single_house', 'garage', 'single_house', 'single_house', 'garage', 'garage', 'single_house', 'single_house', 'light_building', 'collective_house', 'light_building', 'commercial_building', 'commercial_building', 'garage', 'single_house', 'single_house', 'single_house', 'single_house', 'garage', 'single_house', 'single_house', 'single_house', 'single_house', 'light_building', 'single_house', 'single_house', 'single_house', 'single_house', 'garage', 'single_house', 'single_house', 'single_house', 'single_house', 'single_house', 'single_house', 'single_house', 'single_house', 'single_house', 'single_house', 'single_house', 'single_house', 'single_house', 'single_house', 'collective_house', 'single_house', 'single_house', 'single_house', 'single_house', 'single_house', 'single_house', 'single_house', 'garage', 'garage', 'single_house', 'garage', 'single_house', 'commercial_building', 'single_house', 'single_house', 'single_house', 'single_house', 'garage', 'single_house', 'single_house', 'single_house', 'single_house', 'commercial_building', 'commercial_building', 'single_house', 'garage', 'single_house', 'single_house', 'single_house', 'single_house', 'single_house', 'single_house', 'single_house', 'single_house', 'collective_house', 'single_house', 'single_house', 'commercial_building', 'single_house', 'single_house', 'single_house', 'garage', 'single_house', 'garage', 'single_house', 'single_house', 'single_house', 'single_house', 'single_house', 'garage', 'garage', 'single_house', 'single_house', 'single_house', 'garage', 'single_house', 'commercial_building', 'single_house', 'garage', 'single_house', 'commercial_building', 'single_house', 'single_house', 'commercial_building', 'commercial_building', 'commercial_building', 'garage', 'single_house', 'single_house', 'single_house', 'single_house', 'single_house', 'commercial_building', 'commercial_building', 'single_house', 'single_house', 'collective_house', 'single_house', 'single_house', 'single_house', 'single_house', 'single_house', 'garage', 'commercial_building', 'single_house', 'garage', 'single_house', 'single_house', 'single_house', 'single_house', 'single_house', 'single_house', 'single_house', 'single_house', 'garage', 'commercial_building', 'single_house', 'single_house', 'commercial_building', 'single_house', 'single_house', 'single_house', 'single_house', 'light_building', 'garage', 'single_house', 'single_house', 'commercial_building', 'single_house', 'garage', 'commercial_building', 'single_house', 'garage', 'garage', 'single_house', 'single_house', 'commercial_building', 'single_house', 'garage', 'commercial_building', 'single_house', 'single_house', 'single_house', 'single_house', 'single_house', 'garage', 'commercial_building', 'commercial_building', 'commercial_building', 'light_building', 'single_house', 'single_house', 'light_building', 'single_house', 'commercial_building', 'commercial_building', 'garage', 'garage', 'collective_house', 'single_house', 'garage', 'single_house', 'single_house', 'single_house', 'commercial_building', 'garage', 'single_house', 'single_house', 'light_building', 'garage', 'commercial_building', 'single_house', 'single_house', 'garage', 'garage', 'garage', 'single_house', 'single_house', 'single_house', 'single_house', 'garage', 'single_house', 'single_house', 'single_house', 'single_house', 'collective_house', 'garage', 'single_house', 'commercial_building', 'single_house', 'commercial_building', 'single_house', 'single_house', 'commercial_building', 'single_house', 'single_house', 'single_house', 'single_house', 'single_house', 'single_house', 'single_house', 'single_house', 'single_house', 'single_house', 'single_house', 'single_house', 'commercial_building', 'commercial_building', 'single_house', 'single_house', 'commercial_building', 'single_house', 'single_house', 'light_building', 'single_house', 'single_house', 'single_house', 'single_house', 'single_house', 'single_house', 'single_house', 'garage', 'single_house', 'single_house', 'single_house', 'single_house', 'single_house', 'single_house', 'single_house', 'single_house', 'single_house', 'single_house', 'single_house', 'single_house', 'single_house', 'collective_house', 'single_house', 'single_house', 'single_house', 'garage', 'single_house', 'commercial_building', 'single_house', 'light_building', 'single_house', 'commercial_building', 'single_house', 'garage', 'single_house', 'single_house', 'garage', 'single_house', 'single_house', 'single_house', 'single_house', 'garage', 'single_house', 'single_house', 'single_house', 'garage', 'single_house', 'single_house', 'light_building', 'single_house', 'commercial_building', 'single_house', 'single_house', 'single_house', 'single_house', 'garage', 'garage', 'garage', 'single_house', 'single_house', 'garage', 'collective_house', 'single_house', 'single_house', 'single_house', 'single_house', 'single_house', 'single_house', 'light_building', 'commercial_building', 'single_house', 'single_house', 'single_house', 'commercial_building', 'collective_house', 'single_house', 'commercial_building', 'single_house', 'single_house', 'collective_house', 'commercial_building', 'single_house', 'single_house', 'single_house', 'single_house', 'garage', 'single_house', 'single_house', 'light_building', 'single_house', 'single_house', 'commercial_building', 'single_house', 'single_house', 'collective_house', 'single_house', 'single_house', 'garage', 'garage', 'single_house', 'commercial_building', 'single_house', 'single_house', 'single_house', 'commercial_building', 'single_house', 'single_house', 'garage', 'single_house', 'single_house', 'single_house', 'single_house', 'single_house', 'garage', 'single_house', 'light_building', 'single_house', 'single_house', 'single_house', 'single_house', 'garage', 'collective_house', 'single_house', 'collective_house', 'single_house', 'collective_house', 'single_house', 'single_house', 'single_house', 'single_house', 'single_house', 'single_house', 'single_house', 'single_house', 'single_house', 'single_house', 'single_house', 'single_house', 'single_house', 'single_house', 'single_house', 'commercial_building', 'single_house', 'single_house', 'single_house', 'commercial_building', 'single_house', 'single_house', 'single_house', 'single_house', 'single_house', 'single_house', 'single_house', 'single_house', 'single_house', 'commercial_building', 'garage', 'single_house', 'single_house', 'single_house', 'garage', 'single_house', 'single_house', 'collective_house', 'collective_house', 'garage', 'commercial_building', 'single_house', 'single_house', 'single_house', 'single_house', 'single_house', 'single_house', 'single_house', 'single_house', 'single_house', 'light_building', 'single_house', 'single_house', 'garage', 'single_house', 'single_house', 'single_house', 'single_house', 'garage', 'single_house', 'single_house', 'single_house', 'single_house', 'single_house', 'single_house', 'garage', 'single_house', 'single_house', 'single_house', 'single_house', 'single_house', 'single_house', 'single_house', 'commercial_building', 'single_house', 'single_house', 'single_house', 'commercial_building', 'single_house', 'single_house', 'garage', 'single_house', 'single_house', 'single_house', 'garage', 'single_house', 'commercial_building', 'single_house', 'collective_house', 'commercial_building', 'single_house', 'single_house', 'commercial_building', 'garage', 'single_house', 'commercial_building', 'commercial_building', 'garage', 'commercial_building', 'light_building', 'garage', 'single_house', 'single_house', 'single_house', 'single_house', 'single_house', 'commercial_building', 'single_house', 'single_house', 'single_house', 'commercial_building', 'commercial_building', 'single_house', 'garage', 'single_house', 'single_house', 'single_house', 'single_house', 'single_house', 'commercial_building', 'single_house', 'single_house', 'single_house', 'single_house', 'single_house', 'single_house', 'single_house', 'light_building', 'commercial_building', 'commercial_building', 'single_house', 'single_house', 'single_house', 'single_house', 'single_house', 'single_house', 'single_house', 'single_house', 'single_house', 'commercial_building', 'single_house', 'single_house', 'single_house', 'single_house', 'single_house', 'garage', 'commercial_building', 'single_house', 'single_house', 'commercial_building', 'single_house', 'single_house', 'single_house', 'single_house', 'single_house', 'commercial_building', 'garage', 'single_house', 'single_house', 'single_house', 'single_house', 'light_building', 'garage', 'single_house', 'commercial_building', 'single_house', 'garage', 'single_house', 'single_house', 'garage', 'collective_house', 'single_house', 'single_house', 'single_house', 'garage', 'single_house', 'light_building', 'single_house', 'collective_house', 'commercial_building', 'single_house', 'single_house', 'single_house', 'commercial_building', 'single_house', 'single_house', 'single_house', 'single_house', 'single_house', 'garage', 'single_house', 'single_house', 'commercial_building', 'commercial_building', 'commercial_building', 'single_house', 'single_house', 'single_house', 'commercial_building', 'single_house', 'single_house', 'single_house', 'single_house', 'garage', 'garage', 'single_house', 'single_house', 'single_house', 'garage', 'single_house', 'single_house', 'garage', 'single_house', 'single_house', 'single_house', 'single_house', 'single_house', 'commercial_building', 'single_house', 'single_house', 'single_house', 'single_house', 'single_house', 'single_house', 'single_house', 'garage', 'single_house', 'single_house', 'garage', 'garage', 'single_house', 'single_house', 'commercial_building', 'single_house', 'garage', 'single_house', 'commercial_building', 'collective_house', 'single_house', 'single_house', 'single_house', 'single_house', 'single_house', 'single_house', 'single_house', 'single_house', 'single_house', 'single_house', 'commercial_building', 'single_house', 'single_house', 'single_house', 'single_house', 'single_house', 'single_house', 'single_house', 'single_house', 'single_house', 'garage', 'single_house', 'single_house', 'single_house', 'single_house', 'single_house', 'single_house', 'single_house', 'single_house', 'garage', 'single_house', 'light_building', 'single_house', 'garage', 'single_house', 'single_house', 'single_house', 'single_house', 'commercial_building', 'single_house', 'single_house', 'single_house', 'single_house', 'single_house', 'single_house', 'single_house', 'commercial_building', 'single_house', 'single_house', 'single_house', 'single_house', 'single_house', 'single_house', 'single_house', 'single_house', 'single_house', 'single_house', 'single_house', 'collective_house', 'single_house', 'single_house', 'single_house', 'commercial_building', 'garage', 'single_house', 'single_house', 'single_house', 'single_house', 'garage', 'single_house', 'single_house', 'garage', 'single_house', 'single_house', 'commercial_building', 'single_house', 'single_house', 'commercial_building', 'light_building', 'garage', 'commercial_building', 'single_house', 'single_house', 'single_house', 'single_house', 'garage', 'single_house', 'garage', 'single_house', 'single_house', 'commercial_building', 'garage', 'single_house', 'single_house', 'single_house', 'single_house', 'single_house', 'single_house', 'single_house', 'single_house', 'single_house', 'single_house', 'single_house', 'single_house', 'single_house', 'single_house', 'single_house', 'commercial_building', 'single_house', 'single_house', 'commercial_building', 'single_house', 'single_house', 'single_house', 'single_house', 'single_house', 'commercial_building', 'garage', 'single_house', 'single_house', 'single_house', 'single_house', 'commercial_building', 'single_house', 'garage', 'single_house', 'single_house', 'single_house', 'single_house', 'single_house', 'garage', 'single_house', 'single_house', 'garage', 'light_building', 'single_house', 'garage', 'single_house', 'single_house', 'single_house', 'commercial_building', 'garage', 'single_house', 'single_house', 'single_house', 'single_house', 'garage', 'single_house', 'single_house', 'single_house', 'commercial_building', 'single_house', 'single_house', 'single_house', 'single_house', 'single_house', 'single_house', 'single_house', 'single_house', 'single_house', 'garage', 'single_house', 'light_building', 'garage', 'single_house', 'single_house', 'commercial_building', 'single_house', 'single_house', 'single_house', 'garage', 'single_house', 'single_house', 'single_house', 'garage', 'single_house', 'light_building', 'single_house', 'garage', 'single_house', 'single_house', 'garage', 'single_house', 'light_building', 'single_house', 'single_house', 'single_house', 'single_house', 'single_house', 'single_house', 'garage', 'garage', 'single_house', 'single_house', 'single_house', 'single_house', 'single_house', 'single_house', 'single_house', 'collective_house', 'single_house', 'single_house', 'garage', 'commercial_building', 'single_house', 'garage', 'single_house', 'garage', 'commercial_building', 'single_house', 'single_house', 'garage', 'single_house', 'single_house', 'single_house', 'single_house', 'single_house', 'single_house', 'single_house', 'single_house', 'single_house', 'single_house', 'single_house', 'single_house', 'garage', 'single_house', 'collective_house', 'commercial_building', 'single_house', 'single_house', 'commercial_building', 'single_house', 'single_house', 'single_house', 'collective_house', 'single_house', 'commercial_building', 'light_building', 'commercial_building', 'single_house', 'single_house', 'single_house', 'single_house', 'light_building', 'single_house', 'garage', 'single_house', 'single_house', 'single_house', 'light_building', 'single_house', 'commercial_building', 'single_house', 'single_house', 'commercial_building', 'single_house', 'single_house', 'single_house', 'single_house', 'collective_house', 'light_building', 'garage', 'garage', 'commercial_building', 'single_house', 'single_house', 'single_house', 'garage', 'single_house', 'commercial_building', 'single_house', 'single_house', 'single_house', 'single_house', 'single_house', 'single_house', 'single_house', 'single_house', 'single_house', 'single_house', 'single_house', 'commercial_building', 'commercial_building', 'single_house', 'single_house', 'single_house', 'commercial_building', 'single_house', 'light_building', 'single_house', 'single_house', 'single_house', 'single_house', 'collective_house', 'commercial_building', 'single_house', 'single_house', 'single_house', 'commercial_building', 'single_house', 'single_house', 'collective_house', 'single_house', 'garage', 'garage', 'single_house', 'single_house', 'single_house', 'single_house', 'single_house', 'garage', 'light_building', 'single_house', 'single_house', 'single_house', 'single_house', 'single_house', 'single_house', 'single_house', 'garage', 'single_house', 'single_house', 'light_building', 'single_house', 'single_house', 'single_house', 'single_house', 'single_house', 'single_house', 'single_house', 'single_house', 'single_house', 'garage', 'commercial_building', 'single_house', 'single_house', 'single_house', 'single_house', 'single_house', 'garage', 'commercial_building', 'garage', 'single_house', 'single_house', 'single_house', 'single_house', 'single_house', 'single_house', 'single_house', 'single_house', 'single_house', 'light_building', 'single_house', 'single_house', 'single_house', 'single_house', 'single_house', 'single_house', 'single_house', 'single_house', 'single_house', 'single_house', 'single_house', 'garage', 'commercial_building', 'single_house', 'single_house', 'garage', 'single_house', 'light_building', 'single_house', 'garage', 'single_house', 'light_building', 'single_house', 'single_house', 'single_house', 'single_house', 'commercial_building', 'light_building', 'single_house', 'single_house', 'single_house', 'single_house', 'collective_house', 'single_house', 'single_house', 'garage', 'single_house', 'single_house', 'single_house', 'garage', 'single_house', 'collective_house', 'garage', 'commercial_building', 'single_house', 'commercial_building', 'single_house', 'single_house', 'single_house', 'single_house', 'collective_house', 'single_house', 'single_house', 'single_house', 'single_house', 'single_house', 'commercial_building', 'commercial_building', 'single_house', 'commercial_building', 'single_house', 'single_house', 'single_house', 'single_house', 'single_house', 'single_house', 'single_house', 'single_house', 'single_house', 'commercial_building', 'single_house', 'single_house', 'single_house', 'single_house', 'single_house', 'collective_house', 'collective_house', 'single_house', 'single_house', 'single_house', 'single_house', 'garage', 'single_house', 'single_house', 'single_house', 'single_house', 'garage', 'commercial_building', 'single_house', 'single_house', 'light_building', 'single_house', 'single_house', 'single_house', 'single_house', 'collective_house', 'single_house', 'commercial_building', 'single_house', 'single_house', 'single_house', 'commercial_building', 'collective_house', 'garage', 'single_house', 'garage', 'light_building', 'single_house', 'single_house', 'garage', 'single_house', 'garage', 'single_house', 'single_house', 'single_house', 'single_house', 'garage', 'single_house', 'light_building', 'single_house', 'single_house', 'single_house', 'single_house', 'garage', 'commercial_building', 'single_house', 'commercial_building', 'garage', 'garage', 'single_house', 'single_house', 'single_house', 'commercial_building', 'garage', 'garage', 'single_house', 'commercial_building', 'garage', 'single_house', 'garage', 'single_house', 'single_house', 'single_house', 'garage', 'school', 'single_house', 'commercial_building', 'single_house', 'single_house', 'single_house', 'single_house', 'single_house', 'garage', 'commercial_building', 'single_house', 'single_house', 'commercial_building', 'single_house', 'garage', 'commercial_building', 'single_house', 'single_house', 'single_house', 'commercial_building', 'single_house', 'single_house', 'single_house', 'single_house', 'single_house', 'single_house', 'commercial_building', 'single_house', 'single_house', 'single_house', 'single_house', 'commercial_building', 'single_house', 'garage', 'single_house', 'single_house', 'commercial_building', 'single_house', 'single_house', 'collective_house', 'single_house', 'single_house', 'commercial_building', 'single_house', 'single_house', 'single_house', 'single_house', 'commercial_building', 'single_house', 'single_house', 'garage', 'single_house', 'single_house', 'single_house', 'single_house', 'single_house', 'commercial_building', 'single_house', 'single_house', 'single_house', 'single_house', 'single_house', 'garage', 'commercial_building', 'garage', 'light_building', 'single_house', 'single_house', 'single_house', 'single_house', 'single_house', 'single_house', 'single_house', 'single_house', 'light_building', 'single_house', 'single_house', 'single_house', 'single_house', 'commercial_building', 'single_house', 'commercial_building', 'garage', 'single_house', 'single_house', 'collective_house', 'garage', 'single_house', 'single_house', 'garage', 'single_house', 'commercial_building', 'garage', 'single_house', 'single_house', 'collective_house', 'single_house', 'single_house', 'single_house', 'garage', 'single_house', 'commercial_building', 'single_house', 'single_house', 'single_house', 'single_house', 'single_house', 'single_house', 'commercial_building', 'single_house', 'commercial_building', 'single_house', 'single_house', 'single_house', 'single_house', 'single_house', 'garage', 'garage', 'single_house', 'single_house', 'single_house', 'garage', 'single_house', 'single_house', 'single_house', 'garage', 'garage', 'garage', 'single_house', 'single_house', 'single_house', 'single_house', 'single_house', 'commercial_building', 'light_building', 'single_house', 'single_house', 'single_house', 'single_house', 'garage', 'single_house', 'single_house', 'single_house', 'light_building', 'light_building', 'single_house', 'single_house', 'single_house', 'single_house', 'light_building', 'single_house', 'single_house', 'single_house', 'single_house', 'single_house', 'single_house', 'single_house', 'single_house', 'single_house', 'single_house', 'single_house', 'commercial_building', 'commercial_building', 'single_house', 'single_house', 'single_house', 'single_house', 'single_house', 'garage', 'garage', 'single_house', 'single_house', 'garage', 'single_house', 'collective_house', 'single_house', 'commercial_building', 'single_house', 'single_house', 'single_house', 'single_house', 'single_house', 'garage', 'garage', 'commercial_building', 'single_house', 'single_house', 'single_house', 'single_house', 'single_house', 'single_house', 'garage', 'garage', 'single_house', 'single_house', 'single_house', 'single_house', 'single_house', 'single_house', 'single_house', 'single_house', 'single_house', 'garage', 'commercial_building', 'commercial_building', 'single_house', 'commercial_building', 'collective_house', 'commercial_building', 'garage', 'commercial_building', 'single_house', 'garage', 'single_house', 'garage', 'single_house', 'commercial_building', 'garage', 'single_house', 'single_house', 'single_house', 'single_house', 'single_house', 'single_house', 'commercial_building', 'light_building', 'single_house', 'commercial_building', 'single_house', 'single_house', 'garage', 'single_house', 'commercial_building', 'single_house', 'single_house', 'single_house', 'single_house', 'single_house', 'single_house', 'single_house', 'collective_house', 'single_house', 'commercial_building', 'single_house', 'garage', 'light_building', 'garage', 'garage', 'commercial_building', 'single_house', 'collective_house', 'single_house', 'single_house', 'single_house', 'single_house', 'single_house', 'single_house', 'single_house', 'single_house', 'collective_house', 'single_house', 'single_house', 'single_house', 'single_house', 'commercial_building', 'single_house', 'single_house', 'commercial_building', 'single_house', 'single_house', 'garage', 'light_building', 'collective_house', 'collective_house', 'single_house', 'single_house', 'single_house', 'garage', 'single_house', 'single_house', 'single_house', 'garage', 'light_building', 'single_house', 'single_house', 'single_house', 'single_house', 'single_house', 'single_house', 'garage', 'single_house', 'single_house', 'single_house', 'light_building', 'single_house', 'single_house', 'single_house', 'single_house', 'single_house', 'single_house', 'single_house', 'single_house', 'garage', 'single_house', 'single_house', 'single_house', 'single_house', 'commercial_building', 'single_house', 'garage', 'commercial_building', 'garage', 'single_house', 'single_house', 'commercial_building', 'commercial_building', 'commercial_building', 'single_house', 'single_house', 'single_house', 'garage', 'single_house', 'single_house', 'single_house', 'single_house', 'light_building', 'collective_house', 'single_house', 'single_house', 'single_house', 'single_house', 'single_house', 'single_house', 'single_house', 'single_house', 'garage', 'single_house', 'single_house', 'light_building', 'light_building', 'single_house', 'single_house', 'single_house', 'garage', 'single_house', 'garage', 'single_house', 'single_house', 'single_house', 'garage', 'single_house', 'single_house', 'garage', 'single_house', 'garage', 'single_house', 'commercial_building', 'single_house', 'single_house', 'single_house', 'commercial_building', 'garage', 'single_house', 'single_house', 'single_house', 'garage', 'single_house', 'commercial_building', 'single_house', 'garage', 'garage', 'single_house', 'single_house', 'single_house', 'single_house', 'garage', 'commercial_building', 'garage', 'single_house', 'garage', 'single_house', 'single_house', 'single_house', 'single_house', 'single_house', 'single_house', 'single_house', 'garage', 'single_house', 'single_house', 'single_house', 'garage', 'single_house', 'single_house', 'single_house', 'garage', 'commercial_building', 'single_house', 'single_house', 'single_house', 'single_house', 'single_house', 'single_house', 'garage', 'single_house', 'single_house', 'light_building', 'single_house', 'single_house', 'single_house', 'garage', 'single_house', 'single_house', 'garage', 'single_house', 'single_house', 'single_house', 'garage', 'commercial_building', 'single_house', 'single_house', 'single_house', 'commercial_building', 'garage', 'single_house', 'single_house', 'commercial_building', 'single_house', 'commercial_building', 'commercial_building', 'single_house', 'light_building', 'single_house', 'single_house', 'single_house', 'single_house', 'light_building', 'commercial_building', 'single_house', 'garage', 'commercial_building', 'single_house', 'single_house', 'commercial_building', 'single_house', 'single_house', 'light_building', 'single_house', 'single_house', 'garage', 'commercial_building', 'single_house', 'single_house', 'single_house', 'garage', 'single_house', 'garage', 'single_house', 'single_house', 'single_house', 'single_house', 'garage', 'commercial_building', 'commercial_building', 'light_building', 'collective_house', 'garage', 'single_house', 'single_house', 'single_house', 'commercial_building', 'garage', 'single_house', 'light_building', 'single_house', 'commercial_building', 'single_house', 'collective_house', 'garage', 'single_house', 'single_house', 'single_house', 'single_house', 'commercial_building', 'single_house', 'single_house', 'single_house', 'single_house', 'single_house', 'single_house', 'single_house', 'single_house', 'school', 'single_house', 'single_house', 'single_house', 'single_house', 'commercial_building', 'single_house', 'commercial_building', 'single_house', 'single_house', 'single_house', 'single_house', 'single_house', 'commercial_building', 'single_house', 'garage', 'single_house', 'garage', 'single_house', 'single_house', 'single_house', 'single_house', 'garage', 'light_building', 'single_house', 'garage', 'commercial_building', 'single_house', 'garage', 'single_house', 'single_house', 'single_house', 'single_house', 'single_house', 'commercial_building', 'light_building', 'single_house', 'light_building', 'light_building', 'single_house', 'single_house', 'single_house', 'commercial_building', 'single_house', 'single_house', 'collective_house', 'single_house', 'single_house', 'single_house', 'garage', 'single_house', 'single_house', 'single_house', 'single_house', 'single_house', 'single_house', 'single_house', 'single_house', 'collective_house', 'single_house', 'light_building', 'single_house', 'single_house', 'single_house', 'single_house', 'commercial_building', 'single_house', 'single_house', 'garage', 'single_house', 'single_house', 'commercial_building', 'garage', 'garage', 'single_house', 'single_house', 'single_house', 'single_house', 'single_house', 'commercial_building', 'single_house', 'garage', 'single_house', 'single_house', 'single_house', 'single_house', 'single_house', 'single_house', 'light_building', 'single_house', 'commercial_building', 'commercial_building', 'single_house', 'single_house', 'single_house', 'commercial_building', 'single_house', 'single_house', 'light_building', 'single_house', 'single_house', 'single_house', 'single_house', 'single_house', 'garage', 'single_house', 'garage', 'single_house', 'commercial_building', 'commercial_building', 'commercial_building', 'garage', 'garage', 'single_house', 'single_house', 'single_house', 'single_house', 'single_house', 'single_house', 'single_house', 'single_house', 'single_house', 'single_house', 'single_house', 'garage', 'single_house', 'collective_house', 'single_house', 'garage', 'single_house', 'single_house', 'single_house', 'single_house', 'single_house', 'commercial_building', 'light_building', 'garage', 'single_house', 'single_house', 'single_house', 'single_house', 'light_building', 'single_house', 'single_house', 'single_house', 'single_house', 'single_house', 'single_house', 'single_house', 'single_house', 'single_house', 'single_house', 'single_house', 'single_house', 'single_house', 'single_house', 'commercial_building', 'single_house', 'single_house', 'single_house', 'single_house', 'single_house', 'single_house', 'commercial_building', 'single_house', 'single_house', 'single_house', 'single_house', 'single_house', 'single_house', 'single_house', 'single_house', 'single_house', 'collective_house', 'single_house', 'garage', 'garage', 'garage', 'single_house', 'single_house', 'single_house', 'single_house', 'single_house', 'single_house', 'single_house', 'garage', 'single_house', 'commercial_building', 'garage', 'commercial_building', 'single_house', 'commercial_building', 'single_house', 'garage', 'single_house', 'garage', 'single_house', 'commercial_building', 'commercial_building', 'commercial_building', 'single_house', 'single_house', 'single_house', 'single_house', 'garage', 'single_house', 'single_house', 'single_house', 'single_house', 'commercial_building', 'single_house', 'single_house', 'garage', 'single_house', 'collective_house', 'single_house', 'single_house', 'single_house', 'garage', 'single_house', 'single_house', 'single_house', 'single_house', 'single_house', 'single_house', 'single_house', 'single_house', 'single_house', 'single_house', 'single_house', 'single_house', 'single_house', 'single_house', 'single_house', 'single_house', 'garage', 'single_house', 'single_house', 'single_house', 'garage', 'single_house', 'single_house', 'commercial_building', 'collective_house', 'garage', 'single_house', 'single_house', 'light_building', 'single_house', 'commercial_building', 'single_house', 'garage', 'single_house', 'commercial_building', 'single_house', 'single_house', 'single_house', 'commercial_building', 'school', 'single_house', 'single_house', 'single_house', 'single_house', 'single_house', 'single_house', 'single_house', 'single_house', 'collective_house', 'garage', 'single_house', 'commercial_building', 'single_house', 'single_house', 'commercial_building', 'single_house', 'single_house', 'single_house', 'single_house', 'garage', 'single_house', 'single_house', 'light_building', 'single_house', 'single_house', 'single_house', 'single_house', 'single_house', 'garage', 'single_house', 'single_house', 'single_house', 'single_house', 'garage', 'commercial_building', 'single_house', 'single_house', 'single_house', 'light_building', 'garage', 'single_house', 'single_house', 'single_house', 'commercial_building', 'single_house', 'single_house', 'single_house', 'single_house', 'garage', 'single_house', 'single_house', 'single_house', 'single_house', 'single_house', 'single_house', 'garage', 'single_house', 'single_house', 'single_house', 'single_house', 'single_house', 'single_house', 'garage', 'garage', 'single_house', 'collective_house', 'single_house', 'commercial_building', 'single_house', 'garage', 'commercial_building', 'single_house', 'single_house', 'single_house', 'commercial_building', 'single_house', 'commercial_building', 'light_building', 'commercial_building', 'commercial_building', 'garage', 'garage', 'single_house', 'light_building', 'garage', 'garage', 'collective_house', 'light_building', 'garage', 'single_house', 'single_house', 'light_building', 'single_house', 'single_house', 'single_house', 'commercial_building', 'single_house', 'single_house', 'single_house', 'collective_house', 'single_house', 'commercial_building', 'single_house', 'single_house', 'single_house', 'commercial_building', 'single_house', 'single_house', 'single_house', 'single_house', 'single_house', 'collective_house', 'single_house', 'single_house', 'single_house', 'single_house', 'commercial_building', 'single_house', 'garage', 'single_house', 'single_house', 'single_house', 'commercial_building', 'commercial_building', 'single_house', 'single_house', 'commercial_building', 'single_house', 'single_house', 'single_house', 'commercial_building', 'single_house', 'commercial_building', 'commercial_building', 'single_house', 'garage', 'single_house', 'light_building', 'garage', 'single_house', 'garage', 'single_house', 'single_house', 'commercial_building', 'single_house', 'single_house', 'garage', 'garage', 'single_house', 'single_house', 'single_house', 'single_house', 'single_house', 'single_house', 'single_house', 'single_house', 'single_house', 'single_house', 'collective_house', 'commercial_building', 'single_house', 'single_house', 'single_house', 'single_house', 'garage', 'single_house', 'single_house', 'single_house', 'single_house', 'garage', 'single_house', 'single_house', 'single_house', 'single_house', 'single_house', 'single_house', 'commercial_building', 'commercial_building', 'garage', 'commercial_building', 'light_building', 'single_house', 'garage', 'single_house', 'single_house', 'single_house', 'single_house', 'single_house', 'single_house', 'garage', 'single_house', 'single_house', 'single_house', 'single_house', 'single_house', 'commercial_building', 'single_house', 'single_house', 'commercial_building', 'light_building', 'single_house', 'collective_house', 'single_house', 'single_house', 'single_house', 'single_house', 'light_building', 'single_house', 'single_house', 'single_house', 'single_house', 'single_house', 'single_house', 'single_house', 'single_house', 'commercial_building', 'single_house', 'single_house', 'single_house', 'garage', 'single_house', 'single_house', 'garage', 'single_house', 'light_building', 'single_house', 'single_house', 'single_house', 'single_house', 'single_house', 'single_house', 'single_house', 'single_house', 'single_house', 'single_house', 'single_house', 'commercial_building', 'single_house', 'single_house', 'single_house', 'single_house', 'single_house', 'single_house', 'light_building', 'light_building', 'single_house', 'single_house', 'single_house', 'single_house', 'single_house', 'single_house', 'single_house', 'light_building', 'single_house', 'single_house', 'single_house', 'single_house', 'school', 'single_house', 'garage', 'garage', 'single_house', 'commercial_building', 'single_house', 'light_building', 'garage', 'single_house', 'single_house', 'single_house', 'single_house', 'garage', 'single_house', 'single_house', 'commercial_building', 'single_house', 'commercial_building', 'light_building', 'single_house', 'single_house', 'single_house', 'commercial_building', 'commercial_building', 'single_house', 'commercial_building', 'single_house', 'collective_house', 'single_house', 'single_house', 'single_house', 'single_house', 'single_house', 'garage', 'collective_house', 'school', 'single_house', 'garage', 'single_house', 'single_house', 'single_house', 'single_house', 'single_house', 'single_house', 'garage', 'single_house', 'garage', 'light_building', 'commercial_building', 'single_house', 'single_house', 'commercial_building', 'single_house', 'single_house', 'single_house', 'single_house', 'light_building', 'garage', 'commercial_building', 'single_house', 'light_building', 'commercial_building', 'single_house', 'collective_house', 'single_house', 'commercial_building', 'single_house', 'single_house', 'commercial_building', 'single_house', 'single_house', 'single_house', 'single_house', 'single_house', 'single_house', 'collective_house', 'single_house', 'commercial_building', 'commercial_building', 'commercial_building', 'single_house', 'single_house', 'single_house', 'single_house', 'commercial_building', 'commercial_building', 'single_house']\n"
     ]
    }
   ],
   "source": [
    "print(new_bT)"
   ]
  },
  {
   "cell_type": "code",
   "execution_count": 99,
   "metadata": {},
   "outputs": [],
   "source": [
    "trash, newBtypes = pd.factorize(new_bT)"
   ]
  },
  {
   "cell_type": "code",
   "execution_count": 100,
   "metadata": {},
   "outputs": [
    {
     "name": "stdout",
     "output_type": "stream",
     "text": [
      "['single_house' 'commercial_building' 'light_building' 'garage'\n",
      " 'collective_house' 'school']\n"
     ]
    }
   ],
   "source": [
    "print(newBtypes)"
   ]
  },
  {
   "cell_type": "code",
   "execution_count": 101,
   "metadata": {},
   "outputs": [],
   "source": [
    "ds_new = pd.DataFrame({'longitude': new_lonG, 'latitude' : new_latI, 'buildingType': new_bT})"
   ]
  },
  {
   "cell_type": "code",
   "execution_count": 102,
   "metadata": {},
   "outputs": [
    {
     "data": {
      "text/html": [
       "<div>\n",
       "<style scoped>\n",
       "    .dataframe tbody tr th:only-of-type {\n",
       "        vertical-align: middle;\n",
       "    }\n",
       "\n",
       "    .dataframe tbody tr th {\n",
       "        vertical-align: top;\n",
       "    }\n",
       "\n",
       "    .dataframe thead th {\n",
       "        text-align: right;\n",
       "    }\n",
       "</style>\n",
       "<table border=\"1\" class=\"dataframe\">\n",
       "  <thead>\n",
       "    <tr style=\"text-align: right;\">\n",
       "      <th></th>\n",
       "      <th>longitude</th>\n",
       "      <th>latitude</th>\n",
       "      <th>buildingType</th>\n",
       "    </tr>\n",
       "  </thead>\n",
       "  <tbody>\n",
       "    <tr>\n",
       "      <th>0</th>\n",
       "      <td>[7.667367845021257]</td>\n",
       "      <td>[48.58095654924354]</td>\n",
       "      <td>single_house</td>\n",
       "    </tr>\n",
       "    <tr>\n",
       "      <th>1</th>\n",
       "      <td>[7.6674027135701825]</td>\n",
       "      <td>[48.580972836748174]</td>\n",
       "      <td>single_house</td>\n",
       "    </tr>\n",
       "    <tr>\n",
       "      <th>2</th>\n",
       "      <td>[7.667437582119108]</td>\n",
       "      <td>[48.58098912425282]</td>\n",
       "      <td>single_house</td>\n",
       "    </tr>\n",
       "    <tr>\n",
       "      <th>3</th>\n",
       "      <td>[7.667472450668034]</td>\n",
       "      <td>[48.58100541175745]</td>\n",
       "      <td>single_house</td>\n",
       "    </tr>\n",
       "    <tr>\n",
       "      <th>4</th>\n",
       "      <td>[7.667507319216959]</td>\n",
       "      <td>[48.58102169926209]</td>\n",
       "      <td>single_house</td>\n",
       "    </tr>\n",
       "  </tbody>\n",
       "</table>\n",
       "</div>"
      ],
      "text/plain": [
       "              longitude              latitude  buildingType\n",
       "0   [7.667367845021257]   [48.58095654924354]  single_house\n",
       "1  [7.6674027135701825]  [48.580972836748174]  single_house\n",
       "2   [7.667437582119108]   [48.58098912425282]  single_house\n",
       "3   [7.667472450668034]   [48.58100541175745]  single_house\n",
       "4   [7.667507319216959]   [48.58102169926209]  single_house"
      ]
     },
     "execution_count": 102,
     "metadata": {},
     "output_type": "execute_result"
    }
   ],
   "source": [
    "ds_new.head()"
   ]
  },
  {
   "cell_type": "code",
   "execution_count": 103,
   "metadata": {},
   "outputs": [
    {
     "name": "stdout",
     "output_type": "stream",
     "text": [
      "(array([0, 0, 0, ..., 1, 1, 0], dtype=int64), Index(['single_house', 'commercial_building', 'light_building', 'garage',\n",
      "       'collective_house', 'school'],\n",
      "      dtype='object'))\n"
     ]
    }
   ],
   "source": [
    "print(pd.factorize(ds_new['buildingType']))"
   ]
  },
  {
   "cell_type": "code",
   "execution_count": 104,
   "metadata": {},
   "outputs": [],
   "source": [
    "ds_new.to_csv('Z_DataSet.csv')"
   ]
  },
  {
   "cell_type": "code",
   "execution_count": null,
   "metadata": {},
   "outputs": [],
   "source": []
  }
 ],
 "metadata": {
  "kernelspec": {
   "display_name": "Python 3",
   "language": "python",
   "name": "python3"
  },
  "language_info": {
   "codemirror_mode": {
    "name": "ipython",
    "version": 3
   },
   "file_extension": ".py",
   "mimetype": "text/x-python",
   "name": "python",
   "nbconvert_exporter": "python",
   "pygments_lexer": "ipython3",
   "version": "3.7.6"
  }
 },
 "nbformat": 4,
 "nbformat_minor": 4
}
